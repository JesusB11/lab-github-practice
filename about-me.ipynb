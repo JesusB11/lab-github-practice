{
 "cells": [
  {
   "cell_type": "code",
   "execution_count": 4,
   "id": "c7b2b9d0",
   "metadata": {},
   "outputs": [
    {
     "name": "stdout",
     "output_type": "stream",
     "text": [
      "Hi! I am Jesús Brito\n",
      "I just wanna switch carrers and make more money :)\n",
      "I actually like Python and working on Power BI!\n"
     ]
    }
   ],
   "source": [
    "name = \"Hi! I am Jesús Brito\"\n",
    "reason = \"I just wanna switch carrers and make more money :)\"\n",
    "fun_fact = \"I actually like Python and working on Power BI!\"\n",
    "\n",
    "print(name, reason, fun_fact, sep=\"\\n\")"
   ]
  }
 ],
 "metadata": {
  "kernelspec": {
   "display_name": "Python 3",
   "language": "python",
   "name": "python3"
  },
  "language_info": {
   "codemirror_mode": {
    "name": "ipython",
    "version": 3
   },
   "file_extension": ".py",
   "mimetype": "text/x-python",
   "name": "python",
   "nbconvert_exporter": "python",
   "pygments_lexer": "ipython3",
   "version": "3.13.3"
  }
 },
 "nbformat": 4,
 "nbformat_minor": 5
}
